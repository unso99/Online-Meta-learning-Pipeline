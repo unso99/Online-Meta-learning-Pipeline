{
 "cells": [
  {
   "cell_type": "markdown",
   "metadata": {},
   "source": [
    "# MAML\n",
    "\n",
    "## Index\n",
    "1. Import Library  \n",
    "2. Path, Parameter, Hyper Parameter Setting  \n",
    "3. Custom Data Generator  "
   ]
  },
  {
   "cell_type": "markdown",
   "metadata": {},
   "source": [
    "# 1. Import Library"
   ]
  },
  {
   "cell_type": "code",
   "execution_count": 1,
   "metadata": {
    "executionInfo": {
     "elapsed": 5228,
     "status": "ok",
     "timestamp": 1685023291094,
     "user": {
      "displayName": "김동주",
      "userId": "11180573310054615837"
     },
     "user_tz": -540
    },
    "id": "CySIhrNAxQRZ"
   },
   "outputs": [],
   "source": [
    "import tensorflow as tf\n",
    "import numpy as np\n",
    "import keras\n",
    "from keras.preprocessing.image import ImageDataGenerator\n",
    "import matplotlib.pyplot as plt\n",
    "import os\n",
    "import scipy\n",
    "\n",
    "from keras.models import Sequential\n",
    "from keras.layers import Dense, Dropout, Activation, Flatten, BatchNormalization\n",
    "from keras.layers import Conv2D, MaxPooling2D\n",
    "from tensorflow.keras import layers, losses, metrics, optimizers\n",
    "from keras.optimizers import Adam\n",
    "\n",
    "import random\n",
    "\n",
    "from tqdm import tqdm_notebook"
   ]
  },
  {
   "cell_type": "markdown",
   "metadata": {},
   "source": [
    "# 2. Path, Parameter, Hyper Parameter Setting"
   ]
  },
  {
   "cell_type": "code",
   "execution_count": 2,
   "metadata": {
    "colab": {
     "base_uri": "https://localhost:8080/"
    },
    "executionInfo": {
     "elapsed": 396,
     "status": "ok",
     "timestamp": 1685023352236,
     "user": {
      "displayName": "김동주",
      "userId": "11180573310054615837"
     },
     "user_tz": -540
    },
    "id": "Qf5Qlre32RGU",
    "outputId": "a52ab476-b415-4882-d47e-1accdc90f6b4"
   },
   "outputs": [],
   "source": [
    "'''\n",
    "\n",
    "'''\n",
    "\n",
    "train_path = 'cifar10/train'\n",
    "test_path = 'cifar10/test'\n",
    "\n",
    "n_way_size = 5\n",
    "k_shot_size = n_way_size * 3\n",
    "\n",
    "# MAML Training HyperParameter Setting\n",
    "learning_rate_outer = 0.001\n",
    "num_total_tasks = 100\n",
    "num_inner_updates = 15\n",
    "learning_rate_inner = 0.001"
   ]
  },
  {
   "cell_type": "markdown",
   "metadata": {},
   "source": [
    "# 3. Custom Data Generator"
   ]
  },
  {
   "cell_type": "code",
   "execution_count": 3,
   "metadata": {},
   "outputs": [
    {
     "name": "stdout",
     "output_type": "stream",
     "text": [
      "Found 22500 images belonging to 5 classes.\n",
      "Found 5000 images belonging to 5 classes.\n",
      "selected random classes: ['dog', 'truck', 'cat', 'horse', 'bird']\n",
      "\n",
      "check shape of data shape\n",
      "input data shape from train_generator: (15, 256, 256, 3)\n",
      "class data shape from train_generator: (15, 5)\n",
      "input data shape from test_generator: (5, 256, 256, 3)\n",
      "class data shape from test_generator: (5, 5)\n"
     ]
    }
   ],
   "source": [
    "class CustomGenerator():\n",
    "    def __init__(self, train_path: str, test_path: str, n_way_size: int, k_shot_size: int):\n",
    "        self.train_datagen = ImageDataGenerator(rescale=1./255, validation_split=0.1)\n",
    "        self.test_datagen = ImageDataGenerator(rescale=1./255)\n",
    "        \n",
    "        self.train_path = train_path\n",
    "        self.test_path = test_path\n",
    "        \n",
    "        self.original_class_list = sorted(os.listdir(train_path))\n",
    "        \n",
    "        self.n_way_size = n_way_size\n",
    "        self.k_shot_size = k_shot_size\n",
    "        \n",
    "        \n",
    "    def select_random_n_way(self):\n",
    "        result = [element for element in random.sample(self.original_class_list, self.n_way_size)]\n",
    "        return result\n",
    "    \n",
    "    def custom_generator(self):\n",
    "        \n",
    "        random_n_way = self.select_random_n_way()\n",
    "        \n",
    "        supportset_generator = self.train_datagen.flow_from_directory(self.train_path,\n",
    "                                                            classes=sorted(random_n_way),\n",
    "                                                            batch_size = self.k_shot_size,\n",
    "                                                            target_size = (256, 256),\n",
    "                                                            subset=\"training\",\n",
    "                                                            class_mode='categorical', \n",
    "                                                            shuffle=True)\n",
    "\n",
    "\n",
    "        queryset_generator = self.test_datagen.flow_from_directory(self.test_path, \n",
    "                                                          classes=sorted(random_n_way),\n",
    "                                                          batch_size = self.n_way_size,\n",
    "                                                          target_size = (256, 256),\n",
    "                                                          class_mode='categorical', \n",
    "                                                          shuffle=True)\n",
    "        \n",
    "        print(f\"selected random classes: {random_n_way}\")\n",
    "        \n",
    "        return supportset_generator, queryset_generator\n",
    "    \n",
    "\n",
    "    \n",
    "    \n",
    "# =============================class method test=================================\n",
    "test = CustomGenerator(train_path=train_path, test_path=test_path, n_way_size=n_way_size, k_shot_size=k_shot_size)\n",
    "supportset_generator, queryset_generator = test.custom_generator()\n",
    "print()\n",
    "\n",
    "print(\"check shape of data shape\")\n",
    "for x_data, class_data in supportset_generator:\n",
    "    print(f\"input data shape from train_generator: {x_data.shape}\")\n",
    "    print(f\"class data shape from train_generator: {class_data.shape}\")\n",
    "    break\n",
    "\n",
    "for x_data, class_data in queryset_generator:\n",
    "    print(f\"input data shape from test_generator: {x_data.shape}\")\n",
    "    print(f\"class data shape from test_generator: {class_data.shape}\")\n",
    "    break    "
   ]
  },
  {
   "cell_type": "code",
   "execution_count": 4,
   "metadata": {},
   "outputs": [],
   "source": [
    "class AlexNet():\n",
    "    def __init__(self):\n",
    "        self.model = self.model_architecture()\n",
    "        \n",
    "    def model_architecture(self):\n",
    "        \n",
    "        model = keras.Sequential([\n",
    "            layers.Conv2D(96, (11, 11), strides=(4, 4), padding='valid', activation='relu', input_shape=(256, 256, 3)),\n",
    "            layers.BatchNormalization(),\n",
    "            layers.MaxPooling2D(pool_size=(3, 3), strides=(2, 2)),\n",
    "            layers.Conv2D(256, (5, 5), strides=(1, 1), padding='same', activation='relu'),\n",
    "            layers.BatchNormalization(),\n",
    "            layers.MaxPooling2D(pool_size=(3, 3), strides=(2, 2)),\n",
    "            layers.Conv2D(384, (3, 3), strides=(1, 1), padding='same', activation='relu'),\n",
    "            layers.Conv2D(384, (3, 3), strides=(1, 1), padding='same', activation='relu'),\n",
    "            layers.Conv2D(256, (3, 3), strides=(1, 1), padding='same', activation='relu'),\n",
    "            layers.MaxPooling2D(pool_size=(3, 3), strides=(2, 2)),\n",
    "            layers.Flatten(),\n",
    "            layers.Dense(512, activation='relu'),\n",
    "            layers.BatchNormalization(),\n",
    "            layers.Dropout(0.5),\n",
    "            layers.Dense(256, activation='relu'),\n",
    "            layers.BatchNormalization(),\n",
    "            layers.Dropout(0.5),\n",
    "            layers.Dense(128, activation='relu'),\n",
    "            layers.BatchNormalization(),\n",
    "            layers.Dropout(0.5),\n",
    "            # layers.Dense(10, activation='softmax')\n",
    "            layers.Dense(5, activation='softmax')  # 클래스 개수에 맞게 변경\n",
    "        ])\n",
    "        \n",
    "        return model\n",
    "        "
   ]
  },
  {
   "cell_type": "code",
   "execution_count": 5,
   "metadata": {},
   "outputs": [],
   "source": [
    "class MAML():\n",
    "    def __init__(self, n_way_size, k_shot_size, learning_rate_outer, num_total_tasks, num_inner_updates, learning_rate_inner):\n",
    "        self.n_way_size = n_way_size\n",
    "        self.k_shot_size = k_shot_size\n",
    "        self.learning_rate_outer = learning_rate_outer\n",
    "        self.num_total_tasks = num_total_tasks\n",
    "        self.num_inner_updates = num_inner_updates\n",
    "        self.learning_rate_inner = learning_rate_inner\n",
    "        \n",
    "    \n",
    "    def base_model_load(self):\n",
    "        # Base 모델 구성\n",
    "        # 다른 파일에서 불러오는 것으로 변경하기\n",
    "        model = AlexNet()\n",
    "        model = model.model\n",
    "        return model\n",
    "    \n",
    "    def base_model_compile(self, inner_or_outer):\n",
    "        model_clone = keras.models.clone_model(self.base_model_load())\n",
    "        model_clone.compile(loss='categorical_crossentropy', \n",
    "                           optimizer = Adam(lr=inner_or_outer),\n",
    "                           metrics=['accuracy'])\n",
    "        \n",
    "        return model_clone\n",
    "    \n",
    "    \n",
    "    def maml_training(self):\n",
    "        \n",
    "        # Initialize the maml model's parameters.\n",
    "        ## maml optimizer 및 loss function check\n",
    "        \n",
    "        maml_model = self.base_model_compile(inner_or_outer=self.learning_rate_outer)\n",
    "        \n",
    "        # Repeat for a specified number of outer loop updates\n",
    "        # outer optimization: 여러 tasks에서 meta learner가 학습하는 과정\n",
    "            \n",
    "\n",
    "        # Allocate task\n",
    "        for task in range(self.num_total_tasks):\n",
    "            print(task)\n",
    "            # base model clone for each task inner learning\n",
    "            inner_clone_model = self.base_model_compile(inner_or_outer=self.learning_rate_inner)\n",
    "            inner_clone_model.set_weights(maml_model.get_weights())\n",
    "\n",
    "            # Load support set data, query set data generator for specified task\n",
    "            data_generator = CustomGenerator(train_path=train_path, test_path=test_path, n_way_size=self.n_way_size, k_shot_size=self.k_shot_size)\n",
    "            supportset_generator, queryset_generator = data_generator.custom_generator()\n",
    "\n",
    "            support_set_data, support_set_labels = supportset_generator.next()\n",
    "            query_set_data, query_set_labels = queryset_generator.next()\n",
    "            \n",
    "            for inner_step in tqdm_notebook(range(num_inner_updates)):\n",
    "                with tf.GradientTape() as tape:\n",
    "\n",
    "                    predictions = inner_clone_model(support_set_data, training=True)\n",
    "                    loss = tf.reduce_mean(tf.square(predictions - support_set_labels))\n",
    "                    gradients = tape.gradient(loss, inner_clone_model.trainable_variables)\n",
    "                    inner_clone_model.optimizer.apply_gradients(zip(gradients, inner_clone_model.trainable_variables))\n",
    "\n",
    "\n",
    "\n",
    "            # Compute the adaptation loss on an query set for the current task\n",
    "            with tf.GradientTape() as tape:\n",
    "                support_set_data, support_set_labels = supportset_generator.next()\n",
    "                query_set_data, query_set_labels = queryset_generator.next()\n",
    "\n",
    "                adaption_loss = tf.reduce_mean(tf.square(inner_clone_model(query_set_data, training=False) - query_set_labels))\n",
    "            \n",
    "            print(adaption_loss)\n",
    "            # Update the model parameters in the outer loop based on adaptation loss\n",
    "\n",
    "            outer_gradients = tape.gradient(adaption_loss, maml_model.trainable_variables)\n",
    "            filtered_gradients = [grad for grad in outer_gradients if grad is not None]\n",
    "            maml_model.optimizer.apply_gradients(zip([-self.learning_rate_outer * grad for grad in filtered_gradients], maml_model.trainable_variables))\n",
    "\n",
    "                       \n",
    "        return maml_model\n",
    "                   "
   ]
  },
  {
   "cell_type": "code",
   "execution_count": 6,
   "metadata": {},
   "outputs": [],
   "source": [
    "maml = MAML(n_way_size, k_shot_size, learning_rate_outer, num_total_tasks, num_inner_updates, learning_rate_inner)"
   ]
  },
  {
   "cell_type": "code",
   "execution_count": 7,
   "metadata": {
    "scrolled": true
   },
   "outputs": [
    {
     "name": "stderr",
     "output_type": "stream",
     "text": [
      "/usr/local/lib/python3.8/dist-packages/keras/optimizers/optimizer_v2/adam.py:117: UserWarning: The `lr` argument is deprecated, use `learning_rate` instead.\n",
      "  super().__init__(name, **kwargs)\n"
     ]
    },
    {
     "name": "stdout",
     "output_type": "stream",
     "text": [
      "0\n",
      "Found 22500 images belonging to 5 classes.\n",
      "Found 5000 images belonging to 5 classes.\n",
      "selected random classes: ['cat', 'horse', 'deer', 'ship', 'automobile']\n"
     ]
    },
    {
     "name": "stderr",
     "output_type": "stream",
     "text": [
      "<ipython-input-5-47406db813f5>:52: TqdmDeprecationWarning: This function will be removed in tqdm==5.0.0\n",
      "Please use `tqdm.notebook.tqdm` instead of `tqdm.tqdm_notebook`\n",
      "  for inner_step in tqdm_notebook(range(num_inner_updates)):\n"
     ]
    },
    {
     "data": {
      "application/vnd.jupyter.widget-view+json": {
       "model_id": "db53952b0aba4dbf8b8264ad7c13d6a5",
       "version_major": 2,
       "version_minor": 0
      },
      "text/plain": [
       "  0%|          | 0/15 [00:00<?, ?it/s]"
      ]
     },
     "metadata": {},
     "output_type": "display_data"
    },
    {
     "name": "stdout",
     "output_type": "stream",
     "text": [
      "tf.Tensor(0.31022322, shape=(), dtype=float32)\n",
      "1\n",
      "Found 22500 images belonging to 5 classes.\n",
      "Found 5000 images belonging to 5 classes.\n",
      "selected random classes: ['truck', 'automobile', 'airplane', 'ship', 'cat']\n"
     ]
    },
    {
     "data": {
      "application/vnd.jupyter.widget-view+json": {
       "model_id": "c155dce5a0074c38adc452cab77f1d0d",
       "version_major": 2,
       "version_minor": 0
      },
      "text/plain": [
       "  0%|          | 0/15 [00:00<?, ?it/s]"
      ]
     },
     "metadata": {},
     "output_type": "display_data"
    },
    {
     "name": "stdout",
     "output_type": "stream",
     "text": [
      "tf.Tensor(0.3190849, shape=(), dtype=float32)\n",
      "2\n",
      "Found 22500 images belonging to 5 classes.\n",
      "Found 5000 images belonging to 5 classes.\n",
      "selected random classes: ['frog', 'truck', 'horse', 'deer', 'automobile']\n"
     ]
    },
    {
     "data": {
      "application/vnd.jupyter.widget-view+json": {
       "model_id": "7b7e9212b87f44aaaac5a4e44fd0175a",
       "version_major": 2,
       "version_minor": 0
      },
      "text/plain": [
       "  0%|          | 0/15 [00:00<?, ?it/s]"
      ]
     },
     "metadata": {},
     "output_type": "display_data"
    },
    {
     "name": "stdout",
     "output_type": "stream",
     "text": [
      "tf.Tensor(0.2997867, shape=(), dtype=float32)\n",
      "3\n",
      "Found 22500 images belonging to 5 classes.\n",
      "Found 5000 images belonging to 5 classes.\n",
      "selected random classes: ['frog', 'cat', 'airplane', 'automobile', 'horse']\n"
     ]
    },
    {
     "data": {
      "application/vnd.jupyter.widget-view+json": {
       "model_id": "bfae56d489a548f89d73e42a11895796",
       "version_major": 2,
       "version_minor": 0
      },
      "text/plain": [
       "  0%|          | 0/15 [00:00<?, ?it/s]"
      ]
     },
     "metadata": {},
     "output_type": "display_data"
    },
    {
     "name": "stdout",
     "output_type": "stream",
     "text": [
      "tf.Tensor(0.24608505, shape=(), dtype=float32)\n",
      "4\n",
      "Found 22500 images belonging to 5 classes.\n",
      "Found 5000 images belonging to 5 classes.\n",
      "selected random classes: ['horse', 'bird', 'deer', 'frog', 'airplane']\n"
     ]
    },
    {
     "data": {
      "application/vnd.jupyter.widget-view+json": {
       "model_id": "b03928f7f6cd4f9d8e46d332b780bf3a",
       "version_major": 2,
       "version_minor": 0
      },
      "text/plain": [
       "  0%|          | 0/15 [00:00<?, ?it/s]"
      ]
     },
     "metadata": {},
     "output_type": "display_data"
    },
    {
     "name": "stdout",
     "output_type": "stream",
     "text": [
      "tf.Tensor(0.15999995, shape=(), dtype=float32)\n",
      "5\n",
      "Found 22500 images belonging to 5 classes.\n",
      "Found 5000 images belonging to 5 classes.\n",
      "selected random classes: ['frog', 'horse', 'ship', 'airplane', 'automobile']\n"
     ]
    },
    {
     "data": {
      "application/vnd.jupyter.widget-view+json": {
       "model_id": "831800d1d74f4b50bb82bc8d1294f2fd",
       "version_major": 2,
       "version_minor": 0
      },
      "text/plain": [
       "  0%|          | 0/15 [00:00<?, ?it/s]"
      ]
     },
     "metadata": {},
     "output_type": "display_data"
    },
    {
     "name": "stdout",
     "output_type": "stream",
     "text": [
      "tf.Tensor(0.4, shape=(), dtype=float32)\n",
      "6\n",
      "Found 22500 images belonging to 5 classes.\n",
      "Found 5000 images belonging to 5 classes.\n",
      "selected random classes: ['automobile', 'bird', 'dog', 'frog', 'ship']\n"
     ]
    },
    {
     "data": {
      "application/vnd.jupyter.widget-view+json": {
       "model_id": "b10bf93e01ca46c49adabab19cbd3f11",
       "version_major": 2,
       "version_minor": 0
      },
      "text/plain": [
       "  0%|          | 0/15 [00:00<?, ?it/s]"
      ]
     },
     "metadata": {},
     "output_type": "display_data"
    },
    {
     "name": "stdout",
     "output_type": "stream",
     "text": [
      "tf.Tensor(0.21754086, shape=(), dtype=float32)\n",
      "7\n",
      "Found 22500 images belonging to 5 classes.\n",
      "Found 5000 images belonging to 5 classes.\n",
      "selected random classes: ['automobile', 'frog', 'bird', 'ship', 'horse']\n"
     ]
    },
    {
     "data": {
      "application/vnd.jupyter.widget-view+json": {
       "model_id": "3523a346686e4c538cefe12e8b2d4c5d",
       "version_major": 2,
       "version_minor": 0
      },
      "text/plain": [
       "  0%|          | 0/15 [00:00<?, ?it/s]"
      ]
     },
     "metadata": {},
     "output_type": "display_data"
    },
    {
     "name": "stdout",
     "output_type": "stream",
     "text": [
      "tf.Tensor(0.36317292, shape=(), dtype=float32)\n",
      "8\n",
      "Found 22500 images belonging to 5 classes.\n",
      "Found 5000 images belonging to 5 classes.\n",
      "selected random classes: ['automobile', 'horse', 'ship', 'deer', 'dog']\n"
     ]
    },
    {
     "data": {
      "application/vnd.jupyter.widget-view+json": {
       "model_id": "e97ced68d0e54e13a163a3bd5f6e4d40",
       "version_major": 2,
       "version_minor": 0
      },
      "text/plain": [
       "  0%|          | 0/15 [00:00<?, ?it/s]"
      ]
     },
     "metadata": {},
     "output_type": "display_data"
    },
    {
     "name": "stdout",
     "output_type": "stream",
     "text": [
      "tf.Tensor(0.31999996, shape=(), dtype=float32)\n",
      "9\n",
      "Found 22500 images belonging to 5 classes.\n",
      "Found 5000 images belonging to 5 classes.\n",
      "selected random classes: ['horse', 'deer', 'automobile', 'airplane', 'ship']\n"
     ]
    },
    {
     "data": {
      "application/vnd.jupyter.widget-view+json": {
       "model_id": "a32d3df45b5a417f835136dc088a8c64",
       "version_major": 2,
       "version_minor": 0
      },
      "text/plain": [
       "  0%|          | 0/15 [00:00<?, ?it/s]"
      ]
     },
     "metadata": {},
     "output_type": "display_data"
    },
    {
     "name": "stdout",
     "output_type": "stream",
     "text": [
      "tf.Tensor(0.31433102, shape=(), dtype=float32)\n",
      "10\n",
      "Found 22500 images belonging to 5 classes.\n",
      "Found 5000 images belonging to 5 classes.\n",
      "selected random classes: ['automobile', 'cat', 'dog', 'deer', 'truck']\n"
     ]
    },
    {
     "data": {
      "application/vnd.jupyter.widget-view+json": {
       "model_id": "0948d80fe96e4e9ab879a82314aea7a2",
       "version_major": 2,
       "version_minor": 0
      },
      "text/plain": [
       "  0%|          | 0/15 [00:00<?, ?it/s]"
      ]
     },
     "metadata": {},
     "output_type": "display_data"
    },
    {
     "name": "stdout",
     "output_type": "stream",
     "text": [
      "tf.Tensor(0.4, shape=(), dtype=float32)\n",
      "11\n",
      "Found 22500 images belonging to 5 classes.\n",
      "Found 5000 images belonging to 5 classes.\n",
      "selected random classes: ['ship', 'airplane', 'dog', 'frog', 'deer']\n"
     ]
    },
    {
     "data": {
      "application/vnd.jupyter.widget-view+json": {
       "model_id": "5fb5f186f7884efd985dbba4625829c9",
       "version_major": 2,
       "version_minor": 0
      },
      "text/plain": [
       "  0%|          | 0/15 [00:00<?, ?it/s]"
      ]
     },
     "metadata": {},
     "output_type": "display_data"
    },
    {
     "name": "stdout",
     "output_type": "stream",
     "text": [
      "tf.Tensor(0.4, shape=(), dtype=float32)\n",
      "12\n",
      "Found 22500 images belonging to 5 classes.\n",
      "Found 5000 images belonging to 5 classes.\n",
      "selected random classes: ['horse', 'ship', 'airplane', 'automobile', 'bird']\n"
     ]
    },
    {
     "data": {
      "application/vnd.jupyter.widget-view+json": {
       "model_id": "6389b3a814cf4f35adbd5bbffaa20e66",
       "version_major": 2,
       "version_minor": 0
      },
      "text/plain": [
       "  0%|          | 0/15 [00:00<?, ?it/s]"
      ]
     },
     "metadata": {},
     "output_type": "display_data"
    },
    {
     "name": "stdout",
     "output_type": "stream",
     "text": [
      "tf.Tensor(0.32, shape=(), dtype=float32)\n",
      "13\n",
      "Found 22500 images belonging to 5 classes.\n",
      "Found 5000 images belonging to 5 classes.\n",
      "selected random classes: ['deer', 'dog', 'bird', 'airplane', 'cat']\n"
     ]
    },
    {
     "data": {
      "application/vnd.jupyter.widget-view+json": {
       "model_id": "9e001497685f48199e4c7895eb94a4c3",
       "version_major": 2,
       "version_minor": 0
      },
      "text/plain": [
       "  0%|          | 0/15 [00:00<?, ?it/s]"
      ]
     },
     "metadata": {},
     "output_type": "display_data"
    },
    {
     "name": "stdout",
     "output_type": "stream",
     "text": [
      "tf.Tensor(0.24869816, shape=(), dtype=float32)\n",
      "14\n",
      "Found 22500 images belonging to 5 classes.\n",
      "Found 5000 images belonging to 5 classes.\n",
      "selected random classes: ['automobile', 'frog', 'truck', 'ship', 'bird']\n"
     ]
    },
    {
     "data": {
      "application/vnd.jupyter.widget-view+json": {
       "model_id": "0e3bfbc4c7154199a8ad5638be57b08b",
       "version_major": 2,
       "version_minor": 0
      },
      "text/plain": [
       "  0%|          | 0/15 [00:00<?, ?it/s]"
      ]
     },
     "metadata": {},
     "output_type": "display_data"
    },
    {
     "name": "stdout",
     "output_type": "stream",
     "text": [
      "tf.Tensor(0.31895626, shape=(), dtype=float32)\n",
      "15\n",
      "Found 22500 images belonging to 5 classes.\n",
      "Found 5000 images belonging to 5 classes.\n",
      "selected random classes: ['ship', 'horse', 'truck', 'automobile', 'dog']\n"
     ]
    },
    {
     "data": {
      "application/vnd.jupyter.widget-view+json": {
       "model_id": "4d8f9fdc3258439c9916ef4a10e028c2",
       "version_major": 2,
       "version_minor": 0
      },
      "text/plain": [
       "  0%|          | 0/15 [00:00<?, ?it/s]"
      ]
     },
     "metadata": {},
     "output_type": "display_data"
    },
    {
     "name": "stdout",
     "output_type": "stream",
     "text": [
      "tf.Tensor(0.24496964, shape=(), dtype=float32)\n",
      "16\n",
      "Found 22500 images belonging to 5 classes.\n",
      "Found 5000 images belonging to 5 classes.\n",
      "selected random classes: ['cat', 'truck', 'deer', 'ship', 'horse']\n"
     ]
    },
    {
     "data": {
      "application/vnd.jupyter.widget-view+json": {
       "model_id": "8666eacab5da452d882dfec10f1579a7",
       "version_major": 2,
       "version_minor": 0
      },
      "text/plain": [
       "  0%|          | 0/15 [00:00<?, ?it/s]"
      ]
     },
     "metadata": {},
     "output_type": "display_data"
    },
    {
     "name": "stdout",
     "output_type": "stream",
     "text": [
      "tf.Tensor(0.24, shape=(), dtype=float32)\n",
      "17\n",
      "Found 22500 images belonging to 5 classes.\n",
      "Found 5000 images belonging to 5 classes.\n",
      "selected random classes: ['truck', 'ship', 'cat', 'frog', 'airplane']\n"
     ]
    },
    {
     "data": {
      "application/vnd.jupyter.widget-view+json": {
       "model_id": "58c4a83b712e48fa972fead226cf697f",
       "version_major": 2,
       "version_minor": 0
      },
      "text/plain": [
       "  0%|          | 0/15 [00:00<?, ?it/s]"
      ]
     },
     "metadata": {},
     "output_type": "display_data"
    },
    {
     "name": "stdout",
     "output_type": "stream",
     "text": [
      "tf.Tensor(0.32, shape=(), dtype=float32)\n",
      "18\n",
      "Found 22500 images belonging to 5 classes.\n",
      "Found 5000 images belonging to 5 classes.\n",
      "selected random classes: ['dog', 'cat', 'deer', 'truck', 'ship']\n"
     ]
    },
    {
     "data": {
      "application/vnd.jupyter.widget-view+json": {
       "model_id": "00be6df195aa4acfbe8dce4396a80765",
       "version_major": 2,
       "version_minor": 0
      },
      "text/plain": [
       "  0%|          | 0/15 [00:00<?, ?it/s]"
      ]
     },
     "metadata": {},
     "output_type": "display_data"
    },
    {
     "name": "stdout",
     "output_type": "stream",
     "text": [
      "tf.Tensor(0.24, shape=(), dtype=float32)\n",
      "19\n",
      "Found 22500 images belonging to 5 classes.\n",
      "Found 5000 images belonging to 5 classes.\n",
      "selected random classes: ['dog', 'cat', 'automobile', 'truck', 'airplane']\n"
     ]
    },
    {
     "data": {
      "application/vnd.jupyter.widget-view+json": {
       "model_id": "90b10a76ec1a44978460a2e4c4f17c93",
       "version_major": 2,
       "version_minor": 0
      },
      "text/plain": [
       "  0%|          | 0/15 [00:00<?, ?it/s]"
      ]
     },
     "metadata": {},
     "output_type": "display_data"
    },
    {
     "name": "stdout",
     "output_type": "stream",
     "text": [
      "tf.Tensor(0.21575569, shape=(), dtype=float32)\n",
      "20\n",
      "Found 22500 images belonging to 5 classes.\n",
      "Found 5000 images belonging to 5 classes.\n",
      "selected random classes: ['bird', 'frog', 'ship', 'horse', 'truck']\n"
     ]
    },
    {
     "data": {
      "application/vnd.jupyter.widget-view+json": {
       "model_id": "34c0e006115d4b2893206e0db5f11f9f",
       "version_major": 2,
       "version_minor": 0
      },
      "text/plain": [
       "  0%|          | 0/15 [00:00<?, ?it/s]"
      ]
     },
     "metadata": {},
     "output_type": "display_data"
    },
    {
     "name": "stdout",
     "output_type": "stream",
     "text": [
      "tf.Tensor(0.32, shape=(), dtype=float32)\n",
      "21\n",
      "Found 22500 images belonging to 5 classes.\n",
      "Found 5000 images belonging to 5 classes.\n",
      "selected random classes: ['automobile', 'deer', 'horse', 'bird', 'frog']\n"
     ]
    },
    {
     "data": {
      "application/vnd.jupyter.widget-view+json": {
       "model_id": "62a20df4f2324a24ae549f1ba387ecd1",
       "version_major": 2,
       "version_minor": 0
      },
      "text/plain": [
       "  0%|          | 0/15 [00:00<?, ?it/s]"
      ]
     },
     "metadata": {},
     "output_type": "display_data"
    },
    {
     "name": "stdout",
     "output_type": "stream",
     "text": [
      "tf.Tensor(0.23999979, shape=(), dtype=float32)\n",
      "22\n",
      "Found 22500 images belonging to 5 classes.\n",
      "Found 5000 images belonging to 5 classes.\n",
      "selected random classes: ['ship', 'truck', 'horse', 'airplane', 'dog']\n"
     ]
    },
    {
     "data": {
      "application/vnd.jupyter.widget-view+json": {
       "model_id": "857e5405d175435e99efee0e36db9f22",
       "version_major": 2,
       "version_minor": 0
      },
      "text/plain": [
       "  0%|          | 0/15 [00:00<?, ?it/s]"
      ]
     },
     "metadata": {},
     "output_type": "display_data"
    },
    {
     "name": "stdout",
     "output_type": "stream",
     "text": [
      "tf.Tensor(0.4, shape=(), dtype=float32)\n",
      "23\n",
      "Found 22500 images belonging to 5 classes.\n",
      "Found 5000 images belonging to 5 classes.\n",
      "selected random classes: ['horse', 'truck', 'bird', 'frog', 'dog']\n"
     ]
    },
    {
     "data": {
      "application/vnd.jupyter.widget-view+json": {
       "model_id": "e39bd1d9edbc4a31beecba04dad8762b",
       "version_major": 2,
       "version_minor": 0
      },
      "text/plain": [
       "  0%|          | 0/15 [00:00<?, ?it/s]"
      ]
     },
     "metadata": {},
     "output_type": "display_data"
    },
    {
     "name": "stdout",
     "output_type": "stream",
     "text": [
      "tf.Tensor(0.39999333, shape=(), dtype=float32)\n",
      "24\n",
      "Found 22500 images belonging to 5 classes.\n",
      "Found 5000 images belonging to 5 classes.\n",
      "selected random classes: ['frog', 'dog', 'ship', 'bird', 'cat']\n"
     ]
    },
    {
     "data": {
      "application/vnd.jupyter.widget-view+json": {
       "model_id": "cacef6211b0a46638f7297e99fd354c5",
       "version_major": 2,
       "version_minor": 0
      },
      "text/plain": [
       "  0%|          | 0/15 [00:00<?, ?it/s]"
      ]
     },
     "metadata": {},
     "output_type": "display_data"
    },
    {
     "name": "stdout",
     "output_type": "stream",
     "text": [
      "tf.Tensor(0.3980883, shape=(), dtype=float32)\n",
      "25\n",
      "Found 22500 images belonging to 5 classes.\n",
      "Found 5000 images belonging to 5 classes.\n",
      "selected random classes: ['dog', 'truck', 'airplane', 'deer', 'ship']\n"
     ]
    },
    {
     "data": {
      "application/vnd.jupyter.widget-view+json": {
       "model_id": "27d4ce1fe98e46fc8fff11633a3636db",
       "version_major": 2,
       "version_minor": 0
      },
      "text/plain": [
       "  0%|          | 0/15 [00:00<?, ?it/s]"
      ]
     },
     "metadata": {},
     "output_type": "display_data"
    },
    {
     "name": "stdout",
     "output_type": "stream",
     "text": [
      "tf.Tensor(0.30624032, shape=(), dtype=float32)\n",
      "26\n",
      "Found 22500 images belonging to 5 classes.\n",
      "Found 5000 images belonging to 5 classes.\n",
      "selected random classes: ['deer', 'ship', 'airplane', 'automobile', 'bird']\n"
     ]
    },
    {
     "data": {
      "application/vnd.jupyter.widget-view+json": {
       "model_id": "84f664003e10405d8980985d20e35a35",
       "version_major": 2,
       "version_minor": 0
      },
      "text/plain": [
       "  0%|          | 0/15 [00:00<?, ?it/s]"
      ]
     },
     "metadata": {},
     "output_type": "display_data"
    },
    {
     "name": "stdout",
     "output_type": "stream",
     "text": [
      "tf.Tensor(0.39654228, shape=(), dtype=float32)\n",
      "27\n",
      "Found 22500 images belonging to 5 classes.\n",
      "Found 5000 images belonging to 5 classes.\n",
      "selected random classes: ['deer', 'frog', 'horse', 'bird', 'airplane']\n"
     ]
    },
    {
     "data": {
      "application/vnd.jupyter.widget-view+json": {
       "model_id": "5d893a3c464044f1abc0a2fc8b15e2f2",
       "version_major": 2,
       "version_minor": 0
      },
      "text/plain": [
       "  0%|          | 0/15 [00:00<?, ?it/s]"
      ]
     },
     "metadata": {},
     "output_type": "display_data"
    },
    {
     "name": "stdout",
     "output_type": "stream",
     "text": [
      "tf.Tensor(0.32, shape=(), dtype=float32)\n",
      "28\n",
      "Found 22500 images belonging to 5 classes.\n",
      "Found 5000 images belonging to 5 classes.\n",
      "selected random classes: ['ship', 'cat', 'horse', 'dog', 'truck']\n"
     ]
    },
    {
     "data": {
      "application/vnd.jupyter.widget-view+json": {
       "model_id": "6c770ec1dfbf41f4afaa8cb0b5da361d",
       "version_major": 2,
       "version_minor": 0
      },
      "text/plain": [
       "  0%|          | 0/15 [00:00<?, ?it/s]"
      ]
     },
     "metadata": {},
     "output_type": "display_data"
    },
    {
     "name": "stdout",
     "output_type": "stream",
     "text": [
      "tf.Tensor(0.29344195, shape=(), dtype=float32)\n",
      "29\n",
      "Found 22500 images belonging to 5 classes.\n",
      "Found 5000 images belonging to 5 classes.\n",
      "selected random classes: ['frog', 'ship', 'bird', 'dog', 'deer']\n"
     ]
    },
    {
     "data": {
      "application/vnd.jupyter.widget-view+json": {
       "model_id": "22c0c1dad9fb41efa869fb87b61fc15a",
       "version_major": 2,
       "version_minor": 0
      },
      "text/plain": [
       "  0%|          | 0/15 [00:00<?, ?it/s]"
      ]
     },
     "metadata": {},
     "output_type": "display_data"
    },
    {
     "name": "stdout",
     "output_type": "stream",
     "text": [
      "tf.Tensor(0.3198926, shape=(), dtype=float32)\n",
      "30\n",
      "Found 22500 images belonging to 5 classes.\n",
      "Found 5000 images belonging to 5 classes.\n",
      "selected random classes: ['frog', 'deer', 'airplane', 'dog', 'bird']\n"
     ]
    },
    {
     "data": {
      "application/vnd.jupyter.widget-view+json": {
       "model_id": "93af689829194f24834d35506f59a96a",
       "version_major": 2,
       "version_minor": 0
      },
      "text/plain": [
       "  0%|          | 0/15 [00:00<?, ?it/s]"
      ]
     },
     "metadata": {},
     "output_type": "display_data"
    },
    {
     "name": "stdout",
     "output_type": "stream",
     "text": [
      "tf.Tensor(0.3310882, shape=(), dtype=float32)\n",
      "31\n",
      "Found 22500 images belonging to 5 classes.\n",
      "Found 5000 images belonging to 5 classes.\n",
      "selected random classes: ['airplane', 'dog', 'truck', 'frog', 'bird']\n"
     ]
    },
    {
     "data": {
      "application/vnd.jupyter.widget-view+json": {
       "model_id": "c6137b8fc2494a5e9196dc685643e2d7",
       "version_major": 2,
       "version_minor": 0
      },
      "text/plain": [
       "  0%|          | 0/15 [00:00<?, ?it/s]"
      ]
     },
     "metadata": {},
     "output_type": "display_data"
    },
    {
     "name": "stdout",
     "output_type": "stream",
     "text": [
      "tf.Tensor(0.22867832, shape=(), dtype=float32)\n",
      "32\n",
      "Found 22500 images belonging to 5 classes.\n",
      "Found 5000 images belonging to 5 classes.\n",
      "selected random classes: ['horse', 'deer', 'bird', 'ship', 'airplane']\n"
     ]
    },
    {
     "data": {
      "application/vnd.jupyter.widget-view+json": {
       "model_id": "5ba21d501a9e4b019d8a7ba1b955f1b1",
       "version_major": 2,
       "version_minor": 0
      },
      "text/plain": [
       "  0%|          | 0/15 [00:00<?, ?it/s]"
      ]
     },
     "metadata": {},
     "output_type": "display_data"
    },
    {
     "name": "stdout",
     "output_type": "stream",
     "text": [
      "tf.Tensor(0.23974785, shape=(), dtype=float32)\n",
      "33\n",
      "Found 22500 images belonging to 5 classes.\n",
      "Found 5000 images belonging to 5 classes.\n",
      "selected random classes: ['cat', 'frog', 'airplane', 'ship', 'bird']\n"
     ]
    },
    {
     "data": {
      "application/vnd.jupyter.widget-view+json": {
       "model_id": "9f6cbefff23c43f8bc26f042e8f2b055",
       "version_major": 2,
       "version_minor": 0
      },
      "text/plain": [
       "  0%|          | 0/15 [00:00<?, ?it/s]"
      ]
     },
     "metadata": {},
     "output_type": "display_data"
    },
    {
     "name": "stdout",
     "output_type": "stream",
     "text": [
      "tf.Tensor(0.24, shape=(), dtype=float32)\n",
      "34\n",
      "Found 22500 images belonging to 5 classes.\n",
      "Found 5000 images belonging to 5 classes.\n",
      "selected random classes: ['airplane', 'cat', 'dog', 'ship', 'horse']\n"
     ]
    },
    {
     "data": {
      "application/vnd.jupyter.widget-view+json": {
       "model_id": "78737c7a13bf4269bb329a5fa6a3e13c",
       "version_major": 2,
       "version_minor": 0
      },
      "text/plain": [
       "  0%|          | 0/15 [00:00<?, ?it/s]"
      ]
     },
     "metadata": {},
     "output_type": "display_data"
    },
    {
     "name": "stdout",
     "output_type": "stream",
     "text": [
      "tf.Tensor(0.23818931, shape=(), dtype=float32)\n",
      "35\n",
      "Found 22500 images belonging to 5 classes.\n",
      "Found 5000 images belonging to 5 classes.\n",
      "selected random classes: ['bird', 'frog', 'airplane', 'horse', 'truck']\n"
     ]
    },
    {
     "data": {
      "application/vnd.jupyter.widget-view+json": {
       "model_id": "3b48037535ea4d85aa00379fbc5923c2",
       "version_major": 2,
       "version_minor": 0
      },
      "text/plain": [
       "  0%|          | 0/15 [00:00<?, ?it/s]"
      ]
     },
     "metadata": {},
     "output_type": "display_data"
    },
    {
     "name": "stdout",
     "output_type": "stream",
     "text": [
      "tf.Tensor(0.32, shape=(), dtype=float32)\n",
      "36\n",
      "Found 22500 images belonging to 5 classes.\n",
      "Found 5000 images belonging to 5 classes.\n",
      "selected random classes: ['deer', 'horse', 'dog', 'cat', 'bird']\n"
     ]
    },
    {
     "data": {
      "application/vnd.jupyter.widget-view+json": {
       "model_id": "d066fc5116a941d0a248fc9fd5b675f6",
       "version_major": 2,
       "version_minor": 0
      },
      "text/plain": [
       "  0%|          | 0/15 [00:00<?, ?it/s]"
      ]
     },
     "metadata": {},
     "output_type": "display_data"
    },
    {
     "name": "stdout",
     "output_type": "stream",
     "text": [
      "tf.Tensor(0.4, shape=(), dtype=float32)\n",
      "37\n",
      "Found 22500 images belonging to 5 classes.\n",
      "Found 5000 images belonging to 5 classes.\n",
      "selected random classes: ['automobile', 'dog', 'airplane', 'truck', 'horse']\n"
     ]
    },
    {
     "data": {
      "application/vnd.jupyter.widget-view+json": {
       "model_id": "a49d5199791f4bc2941412234dde17cc",
       "version_major": 2,
       "version_minor": 0
      },
      "text/plain": [
       "  0%|          | 0/15 [00:00<?, ?it/s]"
      ]
     },
     "metadata": {},
     "output_type": "display_data"
    },
    {
     "name": "stdout",
     "output_type": "stream",
     "text": [
      "tf.Tensor(0.31713554, shape=(), dtype=float32)\n",
      "38\n",
      "Found 22500 images belonging to 5 classes.\n",
      "Found 5000 images belonging to 5 classes.\n",
      "selected random classes: ['horse', 'dog', 'frog', 'ship', 'airplane']\n"
     ]
    },
    {
     "data": {
      "application/vnd.jupyter.widget-view+json": {
       "model_id": "d125f89196294a388b994cec36e4021c",
       "version_major": 2,
       "version_minor": 0
      },
      "text/plain": [
       "  0%|          | 0/15 [00:00<?, ?it/s]"
      ]
     },
     "metadata": {},
     "output_type": "display_data"
    },
    {
     "name": "stdout",
     "output_type": "stream",
     "text": [
      "tf.Tensor(0.4, shape=(), dtype=float32)\n",
      "39\n",
      "Found 22500 images belonging to 5 classes.\n",
      "Found 5000 images belonging to 5 classes.\n",
      "selected random classes: ['truck', 'ship', 'automobile', 'bird', 'airplane']\n"
     ]
    },
    {
     "data": {
      "application/vnd.jupyter.widget-view+json": {
       "model_id": "0e076a3c5653402e88ca23279381ee44",
       "version_major": 2,
       "version_minor": 0
      },
      "text/plain": [
       "  0%|          | 0/15 [00:00<?, ?it/s]"
      ]
     },
     "metadata": {},
     "output_type": "display_data"
    },
    {
     "name": "stdout",
     "output_type": "stream",
     "text": [
      "tf.Tensor(0.32, shape=(), dtype=float32)\n",
      "40\n",
      "Found 22500 images belonging to 5 classes.\n",
      "Found 5000 images belonging to 5 classes.\n",
      "selected random classes: ['horse', 'bird', 'automobile', 'ship', 'deer']\n"
     ]
    },
    {
     "data": {
      "application/vnd.jupyter.widget-view+json": {
       "model_id": "bfd97ecbee554c4caef3b36c5f513e15",
       "version_major": 2,
       "version_minor": 0
      },
      "text/plain": [
       "  0%|          | 0/15 [00:00<?, ?it/s]"
      ]
     },
     "metadata": {},
     "output_type": "display_data"
    },
    {
     "name": "stdout",
     "output_type": "stream",
     "text": [
      "tf.Tensor(0.32, shape=(), dtype=float32)\n",
      "41\n",
      "Found 22500 images belonging to 5 classes.\n",
      "Found 5000 images belonging to 5 classes.\n",
      "selected random classes: ['ship', 'bird', 'airplane', 'frog', 'cat']\n"
     ]
    },
    {
     "data": {
      "application/vnd.jupyter.widget-view+json": {
       "model_id": "63a3956fff344693b75da942b6e1db45",
       "version_major": 2,
       "version_minor": 0
      },
      "text/plain": [
       "  0%|          | 0/15 [00:00<?, ?it/s]"
      ]
     },
     "metadata": {},
     "output_type": "display_data"
    },
    {
     "name": "stdout",
     "output_type": "stream",
     "text": [
      "tf.Tensor(0.32, shape=(), dtype=float32)\n",
      "42\n",
      "Found 22500 images belonging to 5 classes.\n",
      "Found 5000 images belonging to 5 classes.\n",
      "selected random classes: ['ship', 'deer', 'automobile', 'cat', 'frog']\n"
     ]
    },
    {
     "data": {
      "application/vnd.jupyter.widget-view+json": {
       "model_id": "13e00f1f968347598d422c315f597c97",
       "version_major": 2,
       "version_minor": 0
      },
      "text/plain": [
       "  0%|          | 0/15 [00:00<?, ?it/s]"
      ]
     },
     "metadata": {},
     "output_type": "display_data"
    },
    {
     "name": "stdout",
     "output_type": "stream",
     "text": [
      "tf.Tensor(0.32, shape=(), dtype=float32)\n",
      "43\n",
      "Found 22500 images belonging to 5 classes.\n",
      "Found 5000 images belonging to 5 classes.\n",
      "selected random classes: ['bird', 'deer', 'truck', 'cat', 'frog']\n"
     ]
    },
    {
     "data": {
      "application/vnd.jupyter.widget-view+json": {
       "model_id": "621f23a4078a433983c0e4aa698e9c63",
       "version_major": 2,
       "version_minor": 0
      },
      "text/plain": [
       "  0%|          | 0/15 [00:00<?, ?it/s]"
      ]
     },
     "metadata": {},
     "output_type": "display_data"
    },
    {
     "name": "stdout",
     "output_type": "stream",
     "text": [
      "tf.Tensor(0.26198676, shape=(), dtype=float32)\n",
      "44\n",
      "Found 22500 images belonging to 5 classes.\n",
      "Found 5000 images belonging to 5 classes.\n",
      "selected random classes: ['deer', 'bird', 'cat', 'airplane', 'truck']\n"
     ]
    },
    {
     "data": {
      "application/vnd.jupyter.widget-view+json": {
       "model_id": "5b541c85f564415f9b1515ce03844c55",
       "version_major": 2,
       "version_minor": 0
      },
      "text/plain": [
       "  0%|          | 0/15 [00:00<?, ?it/s]"
      ]
     },
     "metadata": {},
     "output_type": "display_data"
    },
    {
     "name": "stdout",
     "output_type": "stream",
     "text": [
      "tf.Tensor(0.2307799, shape=(), dtype=float32)\n",
      "45\n",
      "Found 22500 images belonging to 5 classes.\n",
      "Found 5000 images belonging to 5 classes.\n",
      "selected random classes: ['horse', 'bird', 'deer', 'dog', 'frog']\n"
     ]
    },
    {
     "data": {
      "application/vnd.jupyter.widget-view+json": {
       "model_id": "daa328a0f3c24764aeeea41451c2040a",
       "version_major": 2,
       "version_minor": 0
      },
      "text/plain": [
       "  0%|          | 0/15 [00:00<?, ?it/s]"
      ]
     },
     "metadata": {},
     "output_type": "display_data"
    },
    {
     "name": "stdout",
     "output_type": "stream",
     "text": [
      "tf.Tensor(0.23774152, shape=(), dtype=float32)\n",
      "46\n",
      "Found 22500 images belonging to 5 classes.\n",
      "Found 5000 images belonging to 5 classes.\n",
      "selected random classes: ['automobile', 'dog', 'truck', 'airplane', 'frog']\n"
     ]
    },
    {
     "data": {
      "application/vnd.jupyter.widget-view+json": {
       "model_id": "cc3728af3cea401789c1b4fdbd55a2d6",
       "version_major": 2,
       "version_minor": 0
      },
      "text/plain": [
       "  0%|          | 0/15 [00:00<?, ?it/s]"
      ]
     },
     "metadata": {},
     "output_type": "display_data"
    },
    {
     "name": "stdout",
     "output_type": "stream",
     "text": [
      "tf.Tensor(0.4, shape=(), dtype=float32)\n",
      "47\n",
      "Found 22500 images belonging to 5 classes.\n",
      "Found 5000 images belonging to 5 classes.\n",
      "selected random classes: ['cat', 'horse', 'airplane', 'dog', 'frog']\n"
     ]
    },
    {
     "data": {
      "application/vnd.jupyter.widget-view+json": {
       "model_id": "237e5ee646ee440fa7c4f292cb8fdb8c",
       "version_major": 2,
       "version_minor": 0
      },
      "text/plain": [
       "  0%|          | 0/15 [00:00<?, ?it/s]"
      ]
     },
     "metadata": {},
     "output_type": "display_data"
    },
    {
     "name": "stdout",
     "output_type": "stream",
     "text": [
      "tf.Tensor(0.31978333, shape=(), dtype=float32)\n",
      "48\n",
      "Found 22500 images belonging to 5 classes.\n",
      "Found 5000 images belonging to 5 classes.\n",
      "selected random classes: ['airplane', 'cat', 'dog', 'automobile', 'truck']\n"
     ]
    },
    {
     "data": {
      "application/vnd.jupyter.widget-view+json": {
       "model_id": "e17fd48d0f2e4575af9d104715af3a12",
       "version_major": 2,
       "version_minor": 0
      },
      "text/plain": [
       "  0%|          | 0/15 [00:00<?, ?it/s]"
      ]
     },
     "metadata": {},
     "output_type": "display_data"
    },
    {
     "name": "stdout",
     "output_type": "stream",
     "text": [
      "tf.Tensor(0.16, shape=(), dtype=float32)\n",
      "49\n",
      "Found 22500 images belonging to 5 classes.\n",
      "Found 5000 images belonging to 5 classes.\n",
      "selected random classes: ['horse', 'automobile', 'bird', 'dog', 'ship']\n"
     ]
    },
    {
     "data": {
      "application/vnd.jupyter.widget-view+json": {
       "model_id": "8b8f5cc42e6148b0a73cb476c5773626",
       "version_major": 2,
       "version_minor": 0
      },
      "text/plain": [
       "  0%|          | 0/15 [00:00<?, ?it/s]"
      ]
     },
     "metadata": {},
     "output_type": "display_data"
    },
    {
     "name": "stdout",
     "output_type": "stream",
     "text": [
      "tf.Tensor(0.3197665, shape=(), dtype=float32)\n",
      "50\n",
      "Found 22500 images belonging to 5 classes.\n",
      "Found 5000 images belonging to 5 classes.\n",
      "selected random classes: ['airplane', 'horse', 'bird', 'cat', 'ship']\n"
     ]
    },
    {
     "data": {
      "application/vnd.jupyter.widget-view+json": {
       "model_id": "79c4ad2fe2a749aab91d62263fc9cfd7",
       "version_major": 2,
       "version_minor": 0
      },
      "text/plain": [
       "  0%|          | 0/15 [00:00<?, ?it/s]"
      ]
     },
     "metadata": {},
     "output_type": "display_data"
    },
    {
     "name": "stdout",
     "output_type": "stream",
     "text": [
      "tf.Tensor(0.39999986, shape=(), dtype=float32)\n",
      "51\n",
      "Found 22500 images belonging to 5 classes.\n",
      "Found 5000 images belonging to 5 classes.\n",
      "selected random classes: ['truck', 'cat', 'horse', 'ship', 'bird']\n"
     ]
    },
    {
     "data": {
      "application/vnd.jupyter.widget-view+json": {
       "model_id": "ac6c50eb1c064d03bfa9206233b376b6",
       "version_major": 2,
       "version_minor": 0
      },
      "text/plain": [
       "  0%|          | 0/15 [00:00<?, ?it/s]"
      ]
     },
     "metadata": {},
     "output_type": "display_data"
    },
    {
     "name": "stdout",
     "output_type": "stream",
     "text": [
      "tf.Tensor(0.3193916, shape=(), dtype=float32)\n",
      "52\n",
      "Found 22500 images belonging to 5 classes.\n",
      "Found 5000 images belonging to 5 classes.\n",
      "selected random classes: ['truck', 'automobile', 'horse', 'deer', 'frog']\n"
     ]
    },
    {
     "data": {
      "application/vnd.jupyter.widget-view+json": {
       "model_id": "e53fe27db435499cbe37805a465b59f3",
       "version_major": 2,
       "version_minor": 0
      },
      "text/plain": [
       "  0%|          | 0/15 [00:00<?, ?it/s]"
      ]
     },
     "metadata": {},
     "output_type": "display_data"
    },
    {
     "name": "stdout",
     "output_type": "stream",
     "text": [
      "tf.Tensor(0.4, shape=(), dtype=float32)\n",
      "53\n",
      "Found 22500 images belonging to 5 classes.\n",
      "Found 5000 images belonging to 5 classes.\n",
      "selected random classes: ['deer', 'cat', 'frog', 'horse', 'dog']\n"
     ]
    },
    {
     "data": {
      "application/vnd.jupyter.widget-view+json": {
       "model_id": "fe0ad35441c44a8fbc00641d88e374fb",
       "version_major": 2,
       "version_minor": 0
      },
      "text/plain": [
       "  0%|          | 0/15 [00:00<?, ?it/s]"
      ]
     },
     "metadata": {},
     "output_type": "display_data"
    },
    {
     "name": "stdout",
     "output_type": "stream",
     "text": [
      "tf.Tensor(0.32, shape=(), dtype=float32)\n",
      "54\n",
      "Found 22500 images belonging to 5 classes.\n",
      "Found 5000 images belonging to 5 classes.\n",
      "selected random classes: ['dog', 'bird', 'deer', 'ship', 'automobile']\n"
     ]
    },
    {
     "data": {
      "application/vnd.jupyter.widget-view+json": {
       "model_id": "2a01c0ef4d6e4e119831a136ec9ccaa1",
       "version_major": 2,
       "version_minor": 0
      },
      "text/plain": [
       "  0%|          | 0/15 [00:00<?, ?it/s]"
      ]
     },
     "metadata": {},
     "output_type": "display_data"
    },
    {
     "name": "stdout",
     "output_type": "stream",
     "text": [
      "tf.Tensor(0.3199997, shape=(), dtype=float32)\n",
      "55\n",
      "Found 22500 images belonging to 5 classes.\n",
      "Found 5000 images belonging to 5 classes.\n",
      "selected random classes: ['deer', 'horse', 'dog', 'ship', 'cat']\n"
     ]
    },
    {
     "data": {
      "application/vnd.jupyter.widget-view+json": {
       "model_id": "6a0cc4bf07f1423c8f35a971ccb8c75d",
       "version_major": 2,
       "version_minor": 0
      },
      "text/plain": [
       "  0%|          | 0/15 [00:00<?, ?it/s]"
      ]
     },
     "metadata": {},
     "output_type": "display_data"
    },
    {
     "name": "stdout",
     "output_type": "stream",
     "text": [
      "tf.Tensor(0.39994788, shape=(), dtype=float32)\n",
      "56\n",
      "Found 22500 images belonging to 5 classes.\n",
      "Found 5000 images belonging to 5 classes.\n",
      "selected random classes: ['automobile', 'deer', 'cat', 'ship', 'dog']\n"
     ]
    },
    {
     "data": {
      "application/vnd.jupyter.widget-view+json": {
       "model_id": "c7e8c74ac1fd41869848cae25a211bb5",
       "version_major": 2,
       "version_minor": 0
      },
      "text/plain": [
       "  0%|          | 0/15 [00:00<?, ?it/s]"
      ]
     },
     "metadata": {},
     "output_type": "display_data"
    },
    {
     "name": "stdout",
     "output_type": "stream",
     "text": [
      "tf.Tensor(0.39999917, shape=(), dtype=float32)\n",
      "57\n",
      "Found 22500 images belonging to 5 classes.\n",
      "Found 5000 images belonging to 5 classes.\n",
      "selected random classes: ['deer', 'horse', 'frog', 'automobile', 'cat']\n"
     ]
    },
    {
     "data": {
      "application/vnd.jupyter.widget-view+json": {
       "model_id": "1ab7223142e6430a9ed9cbcc2b7ea0ef",
       "version_major": 2,
       "version_minor": 0
      },
      "text/plain": [
       "  0%|          | 0/15 [00:00<?, ?it/s]"
      ]
     },
     "metadata": {},
     "output_type": "display_data"
    },
    {
     "name": "stdout",
     "output_type": "stream",
     "text": [
      "tf.Tensor(0.16, shape=(), dtype=float32)\n",
      "58\n",
      "Found 22500 images belonging to 5 classes.\n",
      "Found 5000 images belonging to 5 classes.\n",
      "selected random classes: ['dog', 'ship', 'bird', 'airplane', 'horse']\n"
     ]
    },
    {
     "data": {
      "application/vnd.jupyter.widget-view+json": {
       "model_id": "aefeb999c8264a06a24ecc59383c7b45",
       "version_major": 2,
       "version_minor": 0
      },
      "text/plain": [
       "  0%|          | 0/15 [00:00<?, ?it/s]"
      ]
     },
     "metadata": {},
     "output_type": "display_data"
    },
    {
     "name": "stdout",
     "output_type": "stream",
     "text": [
      "tf.Tensor(0.3199933, shape=(), dtype=float32)\n",
      "59\n",
      "Found 22500 images belonging to 5 classes.\n",
      "Found 5000 images belonging to 5 classes.\n",
      "selected random classes: ['cat', 'airplane', 'frog', 'truck', 'deer']\n"
     ]
    },
    {
     "data": {
      "application/vnd.jupyter.widget-view+json": {
       "model_id": "bec514c7d5d8464f8e49a1b98aee899d",
       "version_major": 2,
       "version_minor": 0
      },
      "text/plain": [
       "  0%|          | 0/15 [00:00<?, ?it/s]"
      ]
     },
     "metadata": {},
     "output_type": "display_data"
    },
    {
     "name": "stdout",
     "output_type": "stream",
     "text": [
      "tf.Tensor(0.32, shape=(), dtype=float32)\n",
      "60\n",
      "Found 22500 images belonging to 5 classes.\n",
      "Found 5000 images belonging to 5 classes.\n",
      "selected random classes: ['frog', 'dog', 'airplane', 'deer', 'ship']\n"
     ]
    },
    {
     "data": {
      "application/vnd.jupyter.widget-view+json": {
       "model_id": "043dce91d0ce4476ac77ec8a84aff089",
       "version_major": 2,
       "version_minor": 0
      },
      "text/plain": [
       "  0%|          | 0/15 [00:00<?, ?it/s]"
      ]
     },
     "metadata": {},
     "output_type": "display_data"
    },
    {
     "name": "stdout",
     "output_type": "stream",
     "text": [
      "tf.Tensor(0.32, shape=(), dtype=float32)\n",
      "61\n",
      "Found 22500 images belonging to 5 classes.\n",
      "Found 5000 images belonging to 5 classes.\n",
      "selected random classes: ['horse', 'truck', 'cat', 'airplane', 'dog']\n"
     ]
    },
    {
     "data": {
      "application/vnd.jupyter.widget-view+json": {
       "model_id": "df9deda0ba5a49eaa4b44479cec345a7",
       "version_major": 2,
       "version_minor": 0
      },
      "text/plain": [
       "  0%|          | 0/15 [00:00<?, ?it/s]"
      ]
     },
     "metadata": {},
     "output_type": "display_data"
    },
    {
     "name": "stdout",
     "output_type": "stream",
     "text": [
      "tf.Tensor(0.31888694, shape=(), dtype=float32)\n",
      "62\n",
      "Found 22500 images belonging to 5 classes.\n",
      "Found 5000 images belonging to 5 classes.\n",
      "selected random classes: ['horse', 'dog', 'truck', 'ship', 'automobile']\n"
     ]
    },
    {
     "data": {
      "application/vnd.jupyter.widget-view+json": {
       "model_id": "6cb65a82ad944ff1bf70c73adb4fc239",
       "version_major": 2,
       "version_minor": 0
      },
      "text/plain": [
       "  0%|          | 0/15 [00:00<?, ?it/s]"
      ]
     },
     "metadata": {},
     "output_type": "display_data"
    },
    {
     "name": "stdout",
     "output_type": "stream",
     "text": [
      "tf.Tensor(0.31997398, shape=(), dtype=float32)\n",
      "63\n",
      "Found 22500 images belonging to 5 classes.\n",
      "Found 5000 images belonging to 5 classes.\n",
      "selected random classes: ['horse', 'ship', 'deer', 'frog', 'automobile']\n"
     ]
    },
    {
     "data": {
      "application/vnd.jupyter.widget-view+json": {
       "model_id": "f50f0fd9981344fbad00aca5246b40ce",
       "version_major": 2,
       "version_minor": 0
      },
      "text/plain": [
       "  0%|          | 0/15 [00:00<?, ?it/s]"
      ]
     },
     "metadata": {},
     "output_type": "display_data"
    },
    {
     "name": "stdout",
     "output_type": "stream",
     "text": [
      "tf.Tensor(0.3999999, shape=(), dtype=float32)\n",
      "64\n",
      "Found 22500 images belonging to 5 classes.\n",
      "Found 5000 images belonging to 5 classes.\n",
      "selected random classes: ['automobile', 'truck', 'airplane', 'ship', 'cat']\n"
     ]
    },
    {
     "data": {
      "application/vnd.jupyter.widget-view+json": {
       "model_id": "543aba3137b24c71855c4560fb4db0d5",
       "version_major": 2,
       "version_minor": 0
      },
      "text/plain": [
       "  0%|          | 0/15 [00:00<?, ?it/s]"
      ]
     },
     "metadata": {},
     "output_type": "display_data"
    },
    {
     "name": "stdout",
     "output_type": "stream",
     "text": [
      "tf.Tensor(0.15272188, shape=(), dtype=float32)\n",
      "65\n",
      "Found 22500 images belonging to 5 classes.\n",
      "Found 5000 images belonging to 5 classes.\n",
      "selected random classes: ['ship', 'bird', 'airplane', 'truck', 'cat']\n"
     ]
    },
    {
     "data": {
      "application/vnd.jupyter.widget-view+json": {
       "model_id": "6f57fce9c2c34a9bb844f7cd955c5b07",
       "version_major": 2,
       "version_minor": 0
      },
      "text/plain": [
       "  0%|          | 0/15 [00:00<?, ?it/s]"
      ]
     },
     "metadata": {},
     "output_type": "display_data"
    },
    {
     "name": "stdout",
     "output_type": "stream",
     "text": [
      "tf.Tensor(0.31999975, shape=(), dtype=float32)\n",
      "66\n",
      "Found 22500 images belonging to 5 classes.\n",
      "Found 5000 images belonging to 5 classes.\n",
      "selected random classes: ['deer', 'airplane', 'bird', 'automobile', 'frog']\n"
     ]
    },
    {
     "data": {
      "application/vnd.jupyter.widget-view+json": {
       "model_id": "4eabcf18944d47d3afcea2de48711ab5",
       "version_major": 2,
       "version_minor": 0
      },
      "text/plain": [
       "  0%|          | 0/15 [00:00<?, ?it/s]"
      ]
     },
     "metadata": {},
     "output_type": "display_data"
    },
    {
     "name": "stdout",
     "output_type": "stream",
     "text": [
      "tf.Tensor(0.32, shape=(), dtype=float32)\n",
      "67\n",
      "Found 22500 images belonging to 5 classes.\n",
      "Found 5000 images belonging to 5 classes.\n",
      "selected random classes: ['automobile', 'truck', 'horse', 'ship', 'dog']\n"
     ]
    },
    {
     "data": {
      "application/vnd.jupyter.widget-view+json": {
       "model_id": "f7d2aa73faf84a1f9440f598426c2099",
       "version_major": 2,
       "version_minor": 0
      },
      "text/plain": [
       "  0%|          | 0/15 [00:00<?, ?it/s]"
      ]
     },
     "metadata": {},
     "output_type": "display_data"
    },
    {
     "name": "stdout",
     "output_type": "stream",
     "text": [
      "tf.Tensor(0.3238622, shape=(), dtype=float32)\n",
      "68\n",
      "Found 22500 images belonging to 5 classes.\n",
      "Found 5000 images belonging to 5 classes.\n",
      "selected random classes: ['truck', 'automobile', 'cat', 'deer', 'ship']\n"
     ]
    },
    {
     "data": {
      "application/vnd.jupyter.widget-view+json": {
       "model_id": "5df0acf01ab9469b8243952c39cbd1fe",
       "version_major": 2,
       "version_minor": 0
      },
      "text/plain": [
       "  0%|          | 0/15 [00:00<?, ?it/s]"
      ]
     },
     "metadata": {},
     "output_type": "display_data"
    },
    {
     "name": "stdout",
     "output_type": "stream",
     "text": [
      "tf.Tensor(0.16, shape=(), dtype=float32)\n",
      "69\n",
      "Found 22500 images belonging to 5 classes.\n",
      "Found 5000 images belonging to 5 classes.\n",
      "selected random classes: ['truck', 'frog', 'automobile', 'airplane', 'ship']\n"
     ]
    },
    {
     "data": {
      "application/vnd.jupyter.widget-view+json": {
       "model_id": "15e0e49ce2bd417dbeb04da4267e19b8",
       "version_major": 2,
       "version_minor": 0
      },
      "text/plain": [
       "  0%|          | 0/15 [00:00<?, ?it/s]"
      ]
     },
     "metadata": {},
     "output_type": "display_data"
    },
    {
     "name": "stdout",
     "output_type": "stream",
     "text": [
      "tf.Tensor(0.30826935, shape=(), dtype=float32)\n",
      "70\n",
      "Found 22500 images belonging to 5 classes.\n",
      "Found 5000 images belonging to 5 classes.\n",
      "selected random classes: ['automobile', 'dog', 'deer', 'horse', 'bird']\n"
     ]
    },
    {
     "data": {
      "application/vnd.jupyter.widget-view+json": {
       "model_id": "1b345d8d285f4a3eb76a1015fb982b5c",
       "version_major": 2,
       "version_minor": 0
      },
      "text/plain": [
       "  0%|          | 0/15 [00:00<?, ?it/s]"
      ]
     },
     "metadata": {},
     "output_type": "display_data"
    },
    {
     "name": "stdout",
     "output_type": "stream",
     "text": [
      "tf.Tensor(0.23993687, shape=(), dtype=float32)\n",
      "71\n",
      "Found 22500 images belonging to 5 classes.\n",
      "Found 5000 images belonging to 5 classes.\n",
      "selected random classes: ['bird', 'ship', 'deer', 'horse', 'truck']\n"
     ]
    },
    {
     "data": {
      "application/vnd.jupyter.widget-view+json": {
       "model_id": "646c3deb0d58429c862c27807e65bd9a",
       "version_major": 2,
       "version_minor": 0
      },
      "text/plain": [
       "  0%|          | 0/15 [00:00<?, ?it/s]"
      ]
     },
     "metadata": {},
     "output_type": "display_data"
    },
    {
     "name": "stdout",
     "output_type": "stream",
     "text": [
      "tf.Tensor(0.23999992, shape=(), dtype=float32)\n",
      "72\n",
      "Found 22500 images belonging to 5 classes.\n",
      "Found 5000 images belonging to 5 classes.\n",
      "selected random classes: ['truck', 'deer', 'dog', 'frog', 'automobile']\n"
     ]
    },
    {
     "data": {
      "application/vnd.jupyter.widget-view+json": {
       "model_id": "7b9d641ea0a64317b39d008399b347b3",
       "version_major": 2,
       "version_minor": 0
      },
      "text/plain": [
       "  0%|          | 0/15 [00:00<?, ?it/s]"
      ]
     },
     "metadata": {},
     "output_type": "display_data"
    },
    {
     "name": "stdout",
     "output_type": "stream",
     "text": [
      "tf.Tensor(0.39988908, shape=(), dtype=float32)\n",
      "73\n",
      "Found 22500 images belonging to 5 classes.\n",
      "Found 5000 images belonging to 5 classes.\n",
      "selected random classes: ['deer', 'airplane', 'dog', 'frog', 'ship']\n"
     ]
    },
    {
     "data": {
      "application/vnd.jupyter.widget-view+json": {
       "model_id": "14098b53345c44f7bc1b0b3791559712",
       "version_major": 2,
       "version_minor": 0
      },
      "text/plain": [
       "  0%|          | 0/15 [00:00<?, ?it/s]"
      ]
     },
     "metadata": {},
     "output_type": "display_data"
    },
    {
     "name": "stdout",
     "output_type": "stream",
     "text": [
      "tf.Tensor(0.4, shape=(), dtype=float32)\n",
      "74\n",
      "Found 22500 images belonging to 5 classes.\n",
      "Found 5000 images belonging to 5 classes.\n",
      "selected random classes: ['ship', 'dog', 'airplane', 'truck', 'horse']\n"
     ]
    },
    {
     "data": {
      "application/vnd.jupyter.widget-view+json": {
       "model_id": "f3db050fe87f45248d14ad1ef2a33a62",
       "version_major": 2,
       "version_minor": 0
      },
      "text/plain": [
       "  0%|          | 0/15 [00:00<?, ?it/s]"
      ]
     },
     "metadata": {},
     "output_type": "display_data"
    },
    {
     "name": "stdout",
     "output_type": "stream",
     "text": [
      "tf.Tensor(0.20853879, shape=(), dtype=float32)\n",
      "75\n",
      "Found 22500 images belonging to 5 classes.\n",
      "Found 5000 images belonging to 5 classes.\n",
      "selected random classes: ['deer', 'bird', 'horse', 'airplane', 'dog']\n"
     ]
    },
    {
     "data": {
      "application/vnd.jupyter.widget-view+json": {
       "model_id": "03e50cc8a5bf45a2805125bea4b939ca",
       "version_major": 2,
       "version_minor": 0
      },
      "text/plain": [
       "  0%|          | 0/15 [00:00<?, ?it/s]"
      ]
     },
     "metadata": {},
     "output_type": "display_data"
    },
    {
     "name": "stdout",
     "output_type": "stream",
     "text": [
      "tf.Tensor(0.32, shape=(), dtype=float32)\n",
      "76\n",
      "Found 22500 images belonging to 5 classes.\n",
      "Found 5000 images belonging to 5 classes.\n",
      "selected random classes: ['automobile', 'cat', 'ship', 'frog', 'bird']\n"
     ]
    },
    {
     "data": {
      "application/vnd.jupyter.widget-view+json": {
       "model_id": "baf1e1bb9c1e4b1a8ebd7e6a6df405d9",
       "version_major": 2,
       "version_minor": 0
      },
      "text/plain": [
       "  0%|          | 0/15 [00:00<?, ?it/s]"
      ]
     },
     "metadata": {},
     "output_type": "display_data"
    },
    {
     "name": "stdout",
     "output_type": "stream",
     "text": [
      "tf.Tensor(0.23999998, shape=(), dtype=float32)\n",
      "77\n",
      "Found 22500 images belonging to 5 classes.\n",
      "Found 5000 images belonging to 5 classes.\n",
      "selected random classes: ['deer', 'dog', 'frog', 'cat', 'bird']\n"
     ]
    },
    {
     "data": {
      "application/vnd.jupyter.widget-view+json": {
       "model_id": "5420ab8cdc534bc484b2ba02085bcddc",
       "version_major": 2,
       "version_minor": 0
      },
      "text/plain": [
       "  0%|          | 0/15 [00:00<?, ?it/s]"
      ]
     },
     "metadata": {},
     "output_type": "display_data"
    },
    {
     "name": "stdout",
     "output_type": "stream",
     "text": [
      "tf.Tensor(0.22653094, shape=(), dtype=float32)\n",
      "78\n",
      "Found 22500 images belonging to 5 classes.\n",
      "Found 5000 images belonging to 5 classes.\n",
      "selected random classes: ['dog', 'airplane', 'horse', 'bird', 'automobile']\n"
     ]
    },
    {
     "data": {
      "application/vnd.jupyter.widget-view+json": {
       "model_id": "1e3f2ed1e66044638e8c5ec5f67ce885",
       "version_major": 2,
       "version_minor": 0
      },
      "text/plain": [
       "  0%|          | 0/15 [00:00<?, ?it/s]"
      ]
     },
     "metadata": {},
     "output_type": "display_data"
    },
    {
     "name": "stdout",
     "output_type": "stream",
     "text": [
      "tf.Tensor(0.24372831, shape=(), dtype=float32)\n",
      "79\n",
      "Found 22500 images belonging to 5 classes.\n",
      "Found 5000 images belonging to 5 classes.\n",
      "selected random classes: ['airplane', 'automobile', 'dog', 'bird', 'ship']\n"
     ]
    },
    {
     "data": {
      "application/vnd.jupyter.widget-view+json": {
       "model_id": "db07bd10e7f040ee8ce77e4a67c5b9e1",
       "version_major": 2,
       "version_minor": 0
      },
      "text/plain": [
       "  0%|          | 0/15 [00:00<?, ?it/s]"
      ]
     },
     "metadata": {},
     "output_type": "display_data"
    },
    {
     "name": "stdout",
     "output_type": "stream",
     "text": [
      "tf.Tensor(0.3196568, shape=(), dtype=float32)\n",
      "80\n",
      "Found 22500 images belonging to 5 classes.\n",
      "Found 5000 images belonging to 5 classes.\n",
      "selected random classes: ['ship', 'frog', 'bird', 'deer', 'automobile']\n"
     ]
    },
    {
     "data": {
      "application/vnd.jupyter.widget-view+json": {
       "model_id": "06cc0b30f1a94f56a95e70b28b633047",
       "version_major": 2,
       "version_minor": 0
      },
      "text/plain": [
       "  0%|          | 0/15 [00:00<?, ?it/s]"
      ]
     },
     "metadata": {},
     "output_type": "display_data"
    },
    {
     "name": "stdout",
     "output_type": "stream",
     "text": [
      "tf.Tensor(0.4, shape=(), dtype=float32)\n",
      "81\n",
      "Found 22500 images belonging to 5 classes.\n",
      "Found 5000 images belonging to 5 classes.\n",
      "selected random classes: ['dog', 'automobile', 'cat', 'bird', 'deer']\n"
     ]
    },
    {
     "data": {
      "application/vnd.jupyter.widget-view+json": {
       "model_id": "32c7cd24be4e4d27835e30a0dac9435f",
       "version_major": 2,
       "version_minor": 0
      },
      "text/plain": [
       "  0%|          | 0/15 [00:00<?, ?it/s]"
      ]
     },
     "metadata": {},
     "output_type": "display_data"
    },
    {
     "name": "stdout",
     "output_type": "stream",
     "text": [
      "tf.Tensor(0.25900176, shape=(), dtype=float32)\n",
      "82\n",
      "Found 22500 images belonging to 5 classes.\n",
      "Found 5000 images belonging to 5 classes.\n",
      "selected random classes: ['cat', 'deer', 'horse', 'automobile', 'dog']\n"
     ]
    },
    {
     "data": {
      "application/vnd.jupyter.widget-view+json": {
       "model_id": "f8ff6a91e63542109a0e98dad087332d",
       "version_major": 2,
       "version_minor": 0
      },
      "text/plain": [
       "  0%|          | 0/15 [00:00<?, ?it/s]"
      ]
     },
     "metadata": {},
     "output_type": "display_data"
    },
    {
     "name": "stdout",
     "output_type": "stream",
     "text": [
      "tf.Tensor(0.4, shape=(), dtype=float32)\n",
      "83\n",
      "Found 22500 images belonging to 5 classes.\n",
      "Found 5000 images belonging to 5 classes.\n",
      "selected random classes: ['airplane', 'horse', 'cat', 'frog', 'dog']\n"
     ]
    },
    {
     "data": {
      "application/vnd.jupyter.widget-view+json": {
       "model_id": "0c35c6d429954bfe863ae758b5027579",
       "version_major": 2,
       "version_minor": 0
      },
      "text/plain": [
       "  0%|          | 0/15 [00:00<?, ?it/s]"
      ]
     },
     "metadata": {},
     "output_type": "display_data"
    },
    {
     "name": "stdout",
     "output_type": "stream",
     "text": [
      "tf.Tensor(0.3995082, shape=(), dtype=float32)\n",
      "84\n",
      "Found 22500 images belonging to 5 classes.\n",
      "Found 5000 images belonging to 5 classes.\n",
      "selected random classes: ['automobile', 'cat', 'truck', 'bird', 'airplane']\n"
     ]
    },
    {
     "data": {
      "application/vnd.jupyter.widget-view+json": {
       "model_id": "dc296a77818544c28e5634803dff0397",
       "version_major": 2,
       "version_minor": 0
      },
      "text/plain": [
       "  0%|          | 0/15 [00:00<?, ?it/s]"
      ]
     },
     "metadata": {},
     "output_type": "display_data"
    },
    {
     "name": "stdout",
     "output_type": "stream",
     "text": [
      "tf.Tensor(0.3531117, shape=(), dtype=float32)\n",
      "85\n",
      "Found 22500 images belonging to 5 classes.\n",
      "Found 5000 images belonging to 5 classes.\n",
      "selected random classes: ['bird', 'dog', 'frog', 'cat', 'airplane']\n"
     ]
    },
    {
     "data": {
      "application/vnd.jupyter.widget-view+json": {
       "model_id": "fa9a88adbdaf47aa98425d5e5b6e6a16",
       "version_major": 2,
       "version_minor": 0
      },
      "text/plain": [
       "  0%|          | 0/15 [00:00<?, ?it/s]"
      ]
     },
     "metadata": {},
     "output_type": "display_data"
    },
    {
     "name": "stdout",
     "output_type": "stream",
     "text": [
      "tf.Tensor(0.39999282, shape=(), dtype=float32)\n",
      "86\n",
      "Found 22500 images belonging to 5 classes.\n",
      "Found 5000 images belonging to 5 classes.\n",
      "selected random classes: ['horse', 'deer', 'truck', 'cat', 'airplane']\n"
     ]
    },
    {
     "data": {
      "application/vnd.jupyter.widget-view+json": {
       "model_id": "a0bc212362b4457e9489471b02454361",
       "version_major": 2,
       "version_minor": 0
      },
      "text/plain": [
       "  0%|          | 0/15 [00:00<?, ?it/s]"
      ]
     },
     "metadata": {},
     "output_type": "display_data"
    },
    {
     "name": "stdout",
     "output_type": "stream",
     "text": [
      "tf.Tensor(0.4, shape=(), dtype=float32)\n",
      "87\n",
      "Found 22500 images belonging to 5 classes.\n",
      "Found 5000 images belonging to 5 classes.\n",
      "selected random classes: ['deer', 'automobile', 'bird', 'truck', 'airplane']\n"
     ]
    },
    {
     "data": {
      "application/vnd.jupyter.widget-view+json": {
       "model_id": "459e45c3431c4499bceaf237a71dc8be",
       "version_major": 2,
       "version_minor": 0
      },
      "text/plain": [
       "  0%|          | 0/15 [00:00<?, ?it/s]"
      ]
     },
     "metadata": {},
     "output_type": "display_data"
    },
    {
     "name": "stdout",
     "output_type": "stream",
     "text": [
      "tf.Tensor(0.23953076, shape=(), dtype=float32)\n",
      "88\n",
      "Found 22500 images belonging to 5 classes.\n",
      "Found 5000 images belonging to 5 classes.\n",
      "selected random classes: ['deer', 'frog', 'truck', 'ship', 'bird']\n"
     ]
    },
    {
     "data": {
      "application/vnd.jupyter.widget-view+json": {
       "model_id": "5d4555bf2a9c4e048536e581cfb077fa",
       "version_major": 2,
       "version_minor": 0
      },
      "text/plain": [
       "  0%|          | 0/15 [00:00<?, ?it/s]"
      ]
     },
     "metadata": {},
     "output_type": "display_data"
    },
    {
     "name": "stdout",
     "output_type": "stream",
     "text": [
      "tf.Tensor(0.31998497, shape=(), dtype=float32)\n",
      "89\n",
      "Found 22500 images belonging to 5 classes.\n",
      "Found 5000 images belonging to 5 classes.\n",
      "selected random classes: ['bird', 'dog', 'ship', 'automobile', 'horse']\n"
     ]
    },
    {
     "data": {
      "application/vnd.jupyter.widget-view+json": {
       "model_id": "4e66c6d884c042dba27659c5dc7a9973",
       "version_major": 2,
       "version_minor": 0
      },
      "text/plain": [
       "  0%|          | 0/15 [00:00<?, ?it/s]"
      ]
     },
     "metadata": {},
     "output_type": "display_data"
    },
    {
     "name": "stdout",
     "output_type": "stream",
     "text": [
      "tf.Tensor(0.24, shape=(), dtype=float32)\n",
      "90\n",
      "Found 22500 images belonging to 5 classes.\n",
      "Found 5000 images belonging to 5 classes.\n",
      "selected random classes: ['airplane', 'horse', 'truck', 'dog', 'deer']\n"
     ]
    },
    {
     "data": {
      "application/vnd.jupyter.widget-view+json": {
       "model_id": "9ca91e9995cf4526b61489b22b0cf956",
       "version_major": 2,
       "version_minor": 0
      },
      "text/plain": [
       "  0%|          | 0/15 [00:00<?, ?it/s]"
      ]
     },
     "metadata": {},
     "output_type": "display_data"
    },
    {
     "name": "stdout",
     "output_type": "stream",
     "text": [
      "tf.Tensor(0.32, shape=(), dtype=float32)\n",
      "91\n",
      "Found 22500 images belonging to 5 classes.\n",
      "Found 5000 images belonging to 5 classes.\n",
      "selected random classes: ['truck', 'horse', 'automobile', 'frog', 'bird']\n"
     ]
    },
    {
     "data": {
      "application/vnd.jupyter.widget-view+json": {
       "model_id": "086a8e98943c497580d9ba77799b48cc",
       "version_major": 2,
       "version_minor": 0
      },
      "text/plain": [
       "  0%|          | 0/15 [00:00<?, ?it/s]"
      ]
     },
     "metadata": {},
     "output_type": "display_data"
    },
    {
     "name": "stdout",
     "output_type": "stream",
     "text": [
      "tf.Tensor(0.32, shape=(), dtype=float32)\n",
      "92\n",
      "Found 22500 images belonging to 5 classes.\n",
      "Found 5000 images belonging to 5 classes.\n",
      "selected random classes: ['truck', 'ship', 'cat', 'automobile', 'dog']\n"
     ]
    },
    {
     "data": {
      "application/vnd.jupyter.widget-view+json": {
       "model_id": "e7127880a7dc4b408c5c1e9273888579",
       "version_major": 2,
       "version_minor": 0
      },
      "text/plain": [
       "  0%|          | 0/15 [00:00<?, ?it/s]"
      ]
     },
     "metadata": {},
     "output_type": "display_data"
    },
    {
     "name": "stdout",
     "output_type": "stream",
     "text": [
      "tf.Tensor(0.32, shape=(), dtype=float32)\n",
      "93\n",
      "Found 22500 images belonging to 5 classes.\n",
      "Found 5000 images belonging to 5 classes.\n",
      "selected random classes: ['automobile', 'horse', 'ship', 'truck', 'cat']\n"
     ]
    },
    {
     "data": {
      "application/vnd.jupyter.widget-view+json": {
       "model_id": "841696dfcba94a97afe13af444ad79cb",
       "version_major": 2,
       "version_minor": 0
      },
      "text/plain": [
       "  0%|          | 0/15 [00:00<?, ?it/s]"
      ]
     },
     "metadata": {},
     "output_type": "display_data"
    },
    {
     "name": "stdout",
     "output_type": "stream",
     "text": [
      "tf.Tensor(0.29411167, shape=(), dtype=float32)\n",
      "94\n",
      "Found 22500 images belonging to 5 classes.\n",
      "Found 5000 images belonging to 5 classes.\n",
      "selected random classes: ['bird', 'cat', 'automobile', 'airplane', 'ship']\n"
     ]
    },
    {
     "data": {
      "application/vnd.jupyter.widget-view+json": {
       "model_id": "0c94f9c05c8f4c7a87c275dcf7167e80",
       "version_major": 2,
       "version_minor": 0
      },
      "text/plain": [
       "  0%|          | 0/15 [00:00<?, ?it/s]"
      ]
     },
     "metadata": {},
     "output_type": "display_data"
    },
    {
     "name": "stdout",
     "output_type": "stream",
     "text": [
      "tf.Tensor(0.32, shape=(), dtype=float32)\n",
      "95\n",
      "Found 22500 images belonging to 5 classes.\n",
      "Found 5000 images belonging to 5 classes.\n",
      "selected random classes: ['truck', 'airplane', 'automobile', 'dog', 'bird']\n"
     ]
    },
    {
     "data": {
      "application/vnd.jupyter.widget-view+json": {
       "model_id": "7f781cc6c42d472faa720972f980ee1c",
       "version_major": 2,
       "version_minor": 0
      },
      "text/plain": [
       "  0%|          | 0/15 [00:00<?, ?it/s]"
      ]
     },
     "metadata": {},
     "output_type": "display_data"
    },
    {
     "name": "stdout",
     "output_type": "stream",
     "text": [
      "tf.Tensor(0.23999856, shape=(), dtype=float32)\n",
      "96\n",
      "Found 22500 images belonging to 5 classes.\n",
      "Found 5000 images belonging to 5 classes.\n",
      "selected random classes: ['horse', 'truck', 'frog', 'deer', 'bird']\n"
     ]
    },
    {
     "data": {
      "application/vnd.jupyter.widget-view+json": {
       "model_id": "0406f418c08b4c968dd4a770fdd0042c",
       "version_major": 2,
       "version_minor": 0
      },
      "text/plain": [
       "  0%|          | 0/15 [00:00<?, ?it/s]"
      ]
     },
     "metadata": {},
     "output_type": "display_data"
    },
    {
     "name": "stdout",
     "output_type": "stream",
     "text": [
      "tf.Tensor(0.4, shape=(), dtype=float32)\n",
      "97\n",
      "Found 22500 images belonging to 5 classes.\n",
      "Found 5000 images belonging to 5 classes.\n",
      "selected random classes: ['deer', 'horse', 'dog', 'bird', 'ship']\n"
     ]
    },
    {
     "data": {
      "application/vnd.jupyter.widget-view+json": {
       "model_id": "c4473cfc8c9f4abb85670eb8002f1bd4",
       "version_major": 2,
       "version_minor": 0
      },
      "text/plain": [
       "  0%|          | 0/15 [00:00<?, ?it/s]"
      ]
     },
     "metadata": {},
     "output_type": "display_data"
    },
    {
     "name": "stdout",
     "output_type": "stream",
     "text": [
      "tf.Tensor(0.32173634, shape=(), dtype=float32)\n",
      "98\n",
      "Found 22500 images belonging to 5 classes.\n",
      "Found 5000 images belonging to 5 classes.\n",
      "selected random classes: ['frog', 'airplane', 'ship', 'bird', 'deer']\n"
     ]
    },
    {
     "data": {
      "application/vnd.jupyter.widget-view+json": {
       "model_id": "96d849a77ba4431485e954644c60cf1d",
       "version_major": 2,
       "version_minor": 0
      },
      "text/plain": [
       "  0%|          | 0/15 [00:00<?, ?it/s]"
      ]
     },
     "metadata": {},
     "output_type": "display_data"
    },
    {
     "name": "stdout",
     "output_type": "stream",
     "text": [
      "tf.Tensor(0.3682383, shape=(), dtype=float32)\n",
      "99\n",
      "Found 22500 images belonging to 5 classes.\n",
      "Found 5000 images belonging to 5 classes.\n",
      "selected random classes: ['frog', 'deer', 'dog', 'cat', 'airplane']\n"
     ]
    },
    {
     "data": {
      "application/vnd.jupyter.widget-view+json": {
       "model_id": "24723bf6880842b4a5eb2ac1811b402a",
       "version_major": 2,
       "version_minor": 0
      },
      "text/plain": [
       "  0%|          | 0/15 [00:00<?, ?it/s]"
      ]
     },
     "metadata": {},
     "output_type": "display_data"
    },
    {
     "name": "stdout",
     "output_type": "stream",
     "text": [
      "tf.Tensor(0.23999904, shape=(), dtype=float32)\n"
     ]
    }
   ],
   "source": [
    "result = maml.maml_training()"
   ]
  },
  {
   "cell_type": "code",
   "execution_count": 8,
   "metadata": {},
   "outputs": [
    {
     "name": "stderr",
     "output_type": "stream",
     "text": [
      "<ipython-input-8-3b5e7ab15b6b>:1: UserWarning: `Model.evaluate_generator` is deprecated and will be removed in a future version. Please use `Model.evaluate`, which supports generators.\n",
      "  scores = result.evaluate_generator(queryset_generator)\n"
     ]
    }
   ],
   "source": [
    "scores = result.evaluate_generator(queryset_generator)"
   ]
  },
  {
   "cell_type": "code",
   "execution_count": 9,
   "metadata": {},
   "outputs": [
    {
     "name": "stdout",
     "output_type": "stream",
     "text": [
      "20.000000298023224\n"
     ]
    }
   ],
   "source": [
    "print(scores[1]*100)"
   ]
  }
 ],
 "metadata": {
  "colab": {
   "authorship_tag": "ABX9TyMuq7kPgs1Cr9QUc0p0z1wT",
   "provenance": []
  },
  "kernelspec": {
   "display_name": "Python 3",
   "language": "python",
   "name": "python3"
  },
  "language_info": {
   "codemirror_mode": {
    "name": "ipython",
    "version": 3
   },
   "file_extension": ".py",
   "mimetype": "text/x-python",
   "name": "python",
   "nbconvert_exporter": "python",
   "pygments_lexer": "ipython3",
   "version": "3.8.10"
  }
 },
 "nbformat": 4,
 "nbformat_minor": 1
}
